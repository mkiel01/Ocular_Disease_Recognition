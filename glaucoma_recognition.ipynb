{
 "cells": [
  {
   "cell_type": "code",
   "execution_count": 49,
   "id": "initial_id",
   "metadata": {
    "collapsed": true,
    "ExecuteTime": {
     "end_time": "2024-03-27T13:00:49.586656Z",
     "start_time": "2024-03-27T13:00:49.582748Z"
    }
   },
   "outputs": [],
   "source": [
    "import numpy as np \n",
    "import pandas as pd  \n",
    "import cv2\n",
    "import random\n",
    "from tqdm import tqdm\n",
    "import matplotlib.pyplot as plt\n",
    "from tensorflow.keras.preprocessing.image import ImageDataGenerator\n"
   ]
  },
  {
   "cell_type": "code",
   "outputs": [],
   "source": [
    "df = pd.read_csv('/Users/michalkielkowski/Desktop/infa-all/magisterka/infa_kognitywan/Ocular_Disease_Recognition/data/archive (1)/full_df.csv')"
   ],
   "metadata": {
    "collapsed": false,
    "ExecuteTime": {
     "end_time": "2024-03-27T13:00:50.108038Z",
     "start_time": "2024-03-27T13:00:50.040686Z"
    }
   },
   "id": "e311830e6e4e49ee",
   "execution_count": 50
  },
  {
   "cell_type": "code",
   "outputs": [],
   "source": [],
   "metadata": {
    "collapsed": false,
    "ExecuteTime": {
     "end_time": "2024-03-27T13:00:50.502056Z",
     "start_time": "2024-03-27T13:00:50.499483Z"
    }
   },
   "id": "c45316dabd623968",
   "execution_count": 50
  },
  {
   "cell_type": "code",
   "outputs": [],
   "source": [],
   "metadata": {
    "collapsed": false,
    "ExecuteTime": {
     "end_time": "2024-03-27T13:00:50.721424Z",
     "start_time": "2024-03-27T13:00:50.719144Z"
    }
   },
   "id": "d1e03cae3db0b3d0",
   "execution_count": 50
  },
  {
   "cell_type": "code",
   "outputs": [],
   "source": [],
   "metadata": {
    "collapsed": false,
    "ExecuteTime": {
     "end_time": "2024-03-27T13:00:50.890646Z",
     "start_time": "2024-03-27T13:00:50.888093Z"
    }
   },
   "id": "85a3578c2f2ad25a",
   "execution_count": 50
  },
  {
   "cell_type": "code",
   "outputs": [],
   "source": [],
   "metadata": {
    "collapsed": false,
    "ExecuteTime": {
     "end_time": "2024-03-27T13:17:39.099528Z",
     "start_time": "2024-03-27T13:17:39.096851Z"
    }
   },
   "id": "1812a548a13de152",
   "execution_count": 77
  },
  {
   "cell_type": "code",
   "outputs": [],
   "source": [],
   "metadata": {
    "collapsed": false,
    "ExecuteTime": {
     "end_time": "2024-03-27T13:17:39.262727Z",
     "start_time": "2024-03-27T13:17:39.260073Z"
    }
   },
   "id": "e8c58d662ca74c43",
   "execution_count": 77
  },
  {
   "cell_type": "code",
   "outputs": [
    {
     "data": {
      "text/plain": "array(['167_right.jpg', '583_right.jpg', '1209_right.jpg',\n       '1210_right.jpg', '1212_right.jpg', '1214_right.jpg',\n       '1215_right.jpg', '1216_right.jpg', '1217_right.jpg',\n       '1218_right.jpg', '1220_right.jpg', '1222_right.jpg',\n       '1226_right.jpg', '1227_right.jpg', '1229_right.jpg'], dtype=object)"
     },
     "execution_count": 78,
     "metadata": {},
     "output_type": "execute_result"
    }
   ],
   "source": [
    "# left_no_normal = df.loc[(df.C ==0) & (df[\"Left-Diagnostic Keywords\"] == \"atrophy\")][\"Left-Fundus\"].sample(250,random_state=42).values\n",
    "\n",
    "left_glaucoma = df.loc[(df.C ==0) & (df[\"Left-Diagnostic Keywords\"] == \"glaucoma\")][\"Left-Fundus\"].values\n",
    "\n",
    "# right_no_normal = df.loc[(df.C ==0) & (df[\"Right-Diagnostic Keywords\"] == \"atrophy\")][\"Right-Fundus\"].sample(250,random_state=42).values\n",
    "right_glaucoma = df.loc[(df.C ==0) & (df[\"Right-Diagnostic Keywords\"] == \"glaucoma\")][\"Right-Fundus\"].values\n",
    "right_no_normal[:15]\n"
   ],
   "metadata": {
    "collapsed": false,
    "ExecuteTime": {
     "end_time": "2024-03-27T13:17:39.759303Z",
     "start_time": "2024-03-27T13:17:39.748026Z"
    }
   },
   "id": "6de69c8376fe7f45",
   "execution_count": 78
  },
  {
   "cell_type": "code",
   "outputs": [
    {
     "data": {
      "text/plain": "array(['2964_right.jpg', '680_right.jpg', '500_right.jpg',\n       '2368_right.jpg', '2820_right.jpg', '2769_right.jpg',\n       '2696_right.jpg', '2890_right.jpg', '940_right.jpg',\n       '2553_right.jpg', '3371_right.jpg', '3042_right.jpg',\n       '919_right.jpg', '3427_right.jpg', '379_right.jpg'], dtype=object)"
     },
     "execution_count": 79,
     "metadata": {},
     "output_type": "execute_result"
    }
   ],
   "source": [
    "left_normal = df.loc[(df.C ==0) & (df[\"Left-Diagnostic Keywords\"] == \"normal fundus\")][\"Left-Fundus\"].sample(250,random_state=42).values\n",
    "right_normal = df.loc[(df.C ==0) & (df[\"Right-Diagnostic Keywords\"] == \"normal fundus\")][\"Right-Fundus\"].sample(250,random_state=42).values\n",
    "right_normal[:15]\n",
    "\n",
    "# jakby mi nie wychodziło to moge usunąc te sample i dać mu więcej danych "
   ],
   "metadata": {
    "collapsed": false,
    "ExecuteTime": {
     "end_time": "2024-03-27T13:17:40.009507Z",
     "start_time": "2024-03-27T13:17:39.992526Z"
    }
   },
   "id": "d253474531444988",
   "execution_count": 79
  },
  {
   "cell_type": "code",
   "outputs": [],
   "source": [
    "glaucoma = np.concatenate((left_glaucoma,right_glaucoma),axis=0)\n",
    "normal = np.concatenate((left_normal,right_normal),axis=0)"
   ],
   "metadata": {
    "collapsed": false,
    "ExecuteTime": {
     "end_time": "2024-03-27T13:17:40.162035Z",
     "start_time": "2024-03-27T13:17:40.158064Z"
    }
   },
   "id": "172f68b140e3a4b1",
   "execution_count": 80
  },
  {
   "cell_type": "markdown",
   "source": [],
   "metadata": {
    "collapsed": false
   },
   "id": "be05668794c79db7"
  },
  {
   "cell_type": "code",
   "outputs": [
    {
     "name": "stdout",
     "output_type": "stream",
     "text": [
      "500 397\n"
     ]
    }
   ],
   "source": [
    "print(len(normal),len(glaucoma))\n"
   ],
   "metadata": {
    "collapsed": false,
    "ExecuteTime": {
     "end_time": "2024-03-27T13:17:41.225997Z",
     "start_time": "2024-03-27T13:17:41.222599Z"
    }
   },
   "id": "41f76064b02f19a0",
   "execution_count": 81
  },
  {
   "cell_type": "code",
   "outputs": [],
   "source": [
    "from tensorflow.keras.preprocessing.image import load_img,img_to_array\n",
    "dataset_dir = \"/Users/michalkielkowski/Desktop/infa-all/magisterka/infa_kognitywan/Ocular_Disease_Recognition/data/archive (1)/preprocessed_images/\"\n",
    "image_size=224\n",
    "labels = []\n",
    "dataset = []\n",
    "def create_dataset(image_category,label):\n",
    "    for img in tqdm(image_category):\n",
    "        image_path = os.path.join(dataset_dir,img)\n",
    "        try:\n",
    "            image = cv2.imread(image_path,cv2.IMREAD_COLOR)\n",
    "            image = cv2.resize(image,(image_size,image_size))\n",
    "        except:\n",
    "            continue\n",
    "        \n",
    "        dataset.append([np.array(image),np.array(label)])\n",
    "    random.shuffle(dataset)\n",
    "    return dataset\n",
    "        \n"
   ],
   "metadata": {
    "collapsed": false
   },
   "id": "886a041f0c74bd4e"
  },
  {
   "cell_type": "code",
   "outputs": [],
   "source": [
    "dataset = create_dataset(glaucoma,1)\n"
   ],
   "metadata": {
    "collapsed": false
   },
   "id": "1cab6f83f1cf5937"
  },
  {
   "cell_type": "code",
   "outputs": [],
   "source": [
    "len(dataset)\n"
   ],
   "metadata": {
    "collapsed": false
   },
   "id": "c3d4e3a8afc39adf"
  },
  {
   "cell_type": "code",
   "outputs": [],
   "source": [
    "dataset = create_dataset(normal,0)\n"
   ],
   "metadata": {
    "collapsed": false
   },
   "id": "da37e08f3e643f65"
  },
  {
   "cell_type": "code",
   "outputs": [],
   "source": [
    "len(dataset)\n"
   ],
   "metadata": {
    "collapsed": false
   },
   "id": "18105e83307bd6dd"
  },
  {
   "cell_type": "code",
   "outputs": [],
   "source": [
    "plt.figure(figsize=(12,7))\n",
    "for i in range(10):\n",
    "    sample = random.choice(range(len(dataset)))\n",
    "    image = dataset[sample][0]\n",
    "    category = dataset[sample][1]\n",
    "    if category== 0:\n",
    "        label = \"Normal\"\n",
    "    else:\n",
    "        label = \"Glaucoma\"\n",
    "    plt.subplot(2,5,i+1)\n",
    "    plt.imshow(image)\n",
    "    plt.xlabel(label)\n",
    "plt.tight_layout() "
   ],
   "metadata": {
    "collapsed": false
   },
   "id": "bda1c609f2b71449"
  },
  {
   "cell_type": "code",
   "outputs": [],
   "source": [
    "x = np.array([i[0] for i in dataset]).reshape(-1,image_size,image_size,3)\n",
    "y = np.array([i[1] for i in dataset])"
   ],
   "metadata": {
    "collapsed": false
   },
   "id": "9f80cde75a90c797"
  },
  {
   "cell_type": "code",
   "outputs": [],
   "source": [
    "from sklearn.model_selection import train_test_split\n",
    "x_train,x_test,y_train,y_test = train_test_split(x,y,test_size=0.2)\n"
   ],
   "metadata": {
    "collapsed": false
   },
   "id": "81671a5a4e36e381"
  },
  {
   "cell_type": "code",
   "outputs": [],
   "source": [
    "from tensorflow.keras.applications.vgg19 import VGG19\n",
    "vgg = VGG19(weights=\"imagenet\",include_top = False,input_shape=(image_size,image_size,3))\n"
   ],
   "metadata": {
    "collapsed": false
   },
   "id": "33c8d683a64aad86"
  },
  {
   "cell_type": "code",
   "outputs": [],
   "source": [
    "for layer in vgg.layers:\n",
    "    layer.trainable = False\n"
   ],
   "metadata": {
    "collapsed": false
   },
   "id": "60700a93b3700a3c"
  },
  {
   "cell_type": "code",
   "outputs": [],
   "source": [
    "from tensorflow.keras import Sequential\n",
    "from tensorflow.keras.layers import Flatten,Dense\n",
    "model = Sequential()\n",
    "model.add(vgg)\n",
    "model.add(Flatten())\n",
    "model.add(Dense(1,activation=\"sigmoid\"))\n"
   ],
   "metadata": {
    "collapsed": false
   },
   "id": "177b14b974ab4a5d"
  },
  {
   "cell_type": "code",
   "outputs": [],
   "source": [
    "model.summary()\n"
   ],
   "metadata": {
    "collapsed": false
   },
   "id": "1679ddac028b07"
  },
  {
   "cell_type": "code",
   "outputs": [],
   "source": [
    "model.compile(optimizer=\"adam\",loss=\"binary_crossentropy\",metrics=[\"accuracy\"])\n"
   ],
   "metadata": {
    "collapsed": false
   },
   "id": "187d3d2a62cfd390"
  },
  {
   "cell_type": "code",
   "outputs": [],
   "source": [
    "from tensorflow.keras.callbacks import ModelCheckpoint,EarlyStopping\n",
    "checkpoint = ModelCheckpoint(\"vgg19.h5\",monitor=\"val_acc\",verbose=1,save_best_only=True,\n",
    "                             save_weights_only=False,save_freq=1)\n",
    "earlystop = EarlyStopping(monitor=\"val_acc\",patience=5,verbose=1)"
   ],
   "metadata": {
    "collapsed": false
   },
   "id": "7346957064650d9c"
  },
  {
   "cell_type": "code",
   "outputs": [],
   "source": [
    "history = model.fit(x_train,y_train,batch_size=32,epochs=15,validation_data=(x_test,y_test),\n",
    "                    verbose=1,callbacks=[checkpoint,earlystop])"
   ],
   "metadata": {
    "collapsed": false
   },
   "id": "98a9d58e70df78bb"
  },
  {
   "cell_type": "code",
   "outputs": [],
   "source": [
    "loss,accuracy = model.evaluate(x_test,y_test)\n",
    "print(\"loss:\",loss)\n",
    "print(\"Accuracy:\",accuracy)"
   ],
   "metadata": {
    "collapsed": false
   },
   "id": "953e77831449f3ec"
  },
  {
   "cell_type": "code",
   "outputs": [],
   "source": [
    "from sklearn.metrics import confusion_matrix,classification_report,accuracy_score\n",
    "y_pred = model.predict_classes(x_test)\n"
   ],
   "metadata": {
    "collapsed": false
   },
   "id": "ebc99634c52d0b96"
  },
  {
   "cell_type": "code",
   "outputs": [],
   "source": [
    "accuracy_score(y_test,y_pred)\n"
   ],
   "metadata": {
    "collapsed": false
   },
   "id": "70b23ad4a1d975de"
  },
  {
   "cell_type": "code",
   "outputs": [],
   "source": [
    "print(classification_report(y_test,y_pred))\n"
   ],
   "metadata": {
    "collapsed": false
   },
   "id": "2b9233d245e2914f"
  },
  {
   "cell_type": "code",
   "outputs": [],
   "source": [
    "from mlxtend.plotting import plot_confusion_matrix\n",
    "cm = confusion_matrix(y_test,y_pred)\n",
    "plot_confusion_matrix(conf_mat = cm,figsize=(8,7),class_names = [\"Normal\",\"Glaucoma\"],\n",
    "                      show_normed = True);\n"
   ],
   "metadata": {
    "collapsed": false
   },
   "id": "f3ccb40b594b426e"
  },
  {
   "cell_type": "code",
   "outputs": [],
   "source": [
    "plt.style.use(\"ggplot\")\n",
    "fig = plt.figure(figsize=(12,6))\n",
    "epochs = range(1,16)\n",
    "plt.subplot(1,2,1)\n",
    "plt.plot(epochs,history.history[\"accuracy\"],\"go-\")\n",
    "plt.plot(epochs,history.history[\"val_accuracy\"],\"ro-\")\n",
    "plt.title(\"Model Accuracy\")\n",
    "plt.xlabel(\"Epochs\")\n",
    "plt.ylabel(\"Accuracy\")\n",
    "plt.legend([\"Train\",\"val\"],loc = \"upper left\")\n",
    "\n",
    "plt.subplot(1,2,2)\n",
    "plt.plot(epochs,history.history[\"loss\"],\"go-\")\n",
    "plt.plot(epochs,history.history[\"val_loss\"],\"ro-\")\n",
    "plt.title(\"Model Loss\")\n",
    "plt.xlabel(\"Epochs\")\n",
    "plt.ylabel(\"Loss\")\n",
    "plt.legend([\"Train\",\"val\"],loc = \"upper left\")\n",
    "plt.show()\n"
   ],
   "metadata": {
    "collapsed": false
   },
   "id": "84c6519cebe2868c"
  },
  {
   "cell_type": "code",
   "outputs": [],
   "source": [
    "plt.figure(figsize=(12,7))\n",
    "for i in range(10):\n",
    "    sample = random.choice(range(len(x_test)))\n",
    "    image = x_test[sample]\n",
    "    category = y_test[sample]\n",
    "    pred_category = y_pred[sample]\n",
    "    \n",
    "    if category== 0:\n",
    "        label = \"Normal\"\n",
    "    else:\n",
    "        label = \"Glaucoma\"\n",
    "        \n",
    "    if pred_category== 0:\n",
    "        pred_label = \"Normal\"\n",
    "    else:\n",
    "        pred_label = \"Glaucoma\"\n",
    "        \n",
    "    plt.subplot(2,5,i+1)\n",
    "    plt.imshow(image)\n",
    "    plt.xlabel(\"Actual:{}\\nPrediction:{}\".format(label,pred_label))\n",
    "plt.tight_layout() "
   ],
   "metadata": {
    "collapsed": false
   },
   "id": "11a5b8ad60772590"
  },
  {
   "cell_type": "code",
   "outputs": [],
   "source": [],
   "metadata": {
    "collapsed": false
   },
   "id": "5778ec5118cc3b85"
  }
 ],
 "metadata": {
  "kernelspec": {
   "display_name": "Python 3",
   "language": "python",
   "name": "python3"
  },
  "language_info": {
   "codemirror_mode": {
    "name": "ipython",
    "version": 2
   },
   "file_extension": ".py",
   "mimetype": "text/x-python",
   "name": "python",
   "nbconvert_exporter": "python",
   "pygments_lexer": "ipython2",
   "version": "2.7.6"
  }
 },
 "nbformat": 4,
 "nbformat_minor": 5
}
